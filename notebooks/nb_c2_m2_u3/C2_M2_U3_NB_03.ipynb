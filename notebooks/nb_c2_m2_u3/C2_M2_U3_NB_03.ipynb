{
 "cells": [
  {
   "cell_type": "markdown",
   "metadata": {},
   "source": [
    "# Funciones como valores - Consecuencias\n",
    "\n",
    "Las funciones se han convertido en cuidadanos de primera clase, pueden ser enviados a una función y ser recibidos de una función al convertirse en tipos de datos."
   ]
  },
  {
   "cell_type": "markdown",
   "metadata": {},
   "source": [
    "## Ejercicio 1 (Generar funciones)\n",
    "\n",
    "Suponga que tiene una función como la suma esta función la hemos definido de varias maneras:\n",
    "\n",
    "```{.scala}\n",
    "def suma(a:Int,b:Int):Int = a + b\n",
    "val suma2 = (a:Int,b:Int) => a + b\n",
    "```\n",
    "\n",
    "La primera `suma` es una definición clásica de una función y la segunda `suma2` es una definición utilizando funciones como valores. Y ambas al ser utilizadas utilizadas de forma muy similar."
   ]
  },
  {
   "cell_type": "code",
   "execution_count": null,
   "metadata": {},
   "outputs": [],
   "source": [
    "def suma(a:Int,b:Int):Int = a + b\n",
    "val suma2 = (a:Int, b:Int) => a + b\n",
    "suma(3,4)\n",
    "suma2(3,4)"
   ]
  },
  {
   "cell_type": "markdown",
   "metadata": {},
   "source": [
    "En ambas se debe utilizar la función con ambos parámetros. Por que el tipo de las funciones creados siguen el siguiente formato: `(Int,Int)=>Int`. \n",
    "\n",
    "Pero si en un momento dado en nuestra computación tuvieramos el valor del primer parámetro y al aplicarlo solamente el primero produciriamos algo del siguiente tipo: `(Int) => Int` es decir `Int => Int`. Podemos crear una función que ya tiene fijado el primer parámetro.\n",
    "\n",
    "Defina una función llamada `aplicaPar`, esta función recibe una función de tipo `(Int,Int)=>Int`, y un parámetro y la convierte en una función de tipo `Int => Int`."
   ]
  },
  {
   "cell_type": "code",
   "execution_count": null,
   "metadata": {},
   "outputs": [],
   "source": [
    "def aplicaPar(f:(Int,Int)=>Int,a:Int):Int => Int = ???\n",
    "val aDosSuma = aplicaPar(_+_,2)\n",
    "val aCienMult = aplicaPar(_*_,100)\n",
    "aDosSuma(3)\n",
    "aCienMult(3)"
   ]
  },
  {
   "cell_type": "markdown",
   "metadata": {},
   "source": [
    "## Ejercicio 2 (Composición de funciones básico).\n",
    "\n",
    "La composición de funciones (también llamada [función compuesta](https://es.wikipedia.org/wiki/Funci%C3%B3n_compuesta)) es la forma de crear una función a partir de la combinación de dos funciones. \n",
    "\n",
    "![funcion compuesta](imagenes/fcomposeg.png)\n",
    "\n",
    "Esto significa que vamos a definir una nueva función a partir de las dos funciones: `f` y `g`. Y esta nueva función e `x`.\n",
    "\n",
    "Desde el punto de vista de la invocación de funciones, lo importante es invoncar primero la función `g` y luego este resultado pasada a la función `f`, que al final será el resultado de la función compuesta.\n",
    "\n",
    "En el siguiente segmento de código implementa la función `composicion` de forma que permita"
   ]
  },
  {
   "cell_type": "code",
   "execution_count": null,
   "metadata": {},
   "outputs": [],
   "source": [
    "def composicion(f:Int => Int, g:Int =>Int):Int => Int = ???\n",
    "val funcion = composicion(_+1,_*2)\n",
    "funcion(3)"
   ]
  },
  {
   "cell_type": "markdown",
   "metadata": {},
   "source": [
    "## Ejercicio 3 (Uso de composición de funciones)\n",
    "\n",
    "La composición de funciones es una forma de crear expresiones de forma dinámica.\n",
    "\n",
    "Si queremos implementar por ejemplo una expresión aritmética como la siguiente:\n",
    "\n",
    "```{.scala}\n",
    "(x + 4) * 5\n",
    "```\n",
    "Se puede crear utilizando la composición de la siguiente forma:\n",
    "\n",
    "```{.scala}\n",
    "composicion(_*5,_+4)\n",
    "```\n",
    "Si queremos implementar por ejemplo una expresión aritmética como la siguiente:\n",
    "\n",
    "```{.scala}\n",
    "3 + 4 * x\n",
    "```\n",
    "\n",
    "Se puede crear utilizando la función de composición la siguiente forma:\n",
    "\n",
    "```{.scala}\n",
    "composicion(3+_,4*_)\n",
    "```\n",
    "\n",
    "La ejecución la puede ver en el siguiente cuerpo"
   ]
  },
  {
   "cell_type": "code",
   "execution_count": null,
   "metadata": {},
   "outputs": [],
   "source": [
    "val funcion2 = composicion(_*5,_+4)\n",
    "funcion2(3)\n",
    "val funcion3 = composicion(3+_,4*_)\n",
    "funcion3(5)"
   ]
  },
  {
   "cell_type": "markdown",
   "metadata": {},
   "source": [
    "Ahora queremos que implementes la siguientes expresiones aritméticas, llamándolas `funcion4` y `funcion5` respectivamente; utilizando la función de `composicion` definida en el ejercicio anterior.\n",
    "\n",
    "```\n",
    "(3+((4*x)-9))\n",
    "(((6*x)+9)-3)\n",
    "```"
   ]
  },
  {
   "cell_type": "code",
   "execution_count": null,
   "metadata": {},
   "outputs": [],
   "source": [
    "val funcion4 = ???\n",
    "val funcion5 = ???"
   ]
  },
  {
   "cell_type": "markdown",
   "metadata": {},
   "source": [
    "## Ejercicio 4 (Generando factorial por programación)\n",
    "\n",
    "La función `iter` es una función que muestra como se puede generalizar el comportamiento sobre ciertas funciones recursivas sobre los enteros, como: la sumatoria desde 1 hasta n y el factorial. \n",
    "\n",
    "Observa la definición de la función `iter`. En ellas encontrarás tres parámetros. Donde `op` indica el cómputo que se hará sobre un par de valores; `e` indica el valor que se retorna en el caso base y `n` es el número de elementos que se realizará la interación."
   ]
  },
  {
   "cell_type": "code",
   "execution_count": null,
   "metadata": {},
   "outputs": [],
   "source": [
    "def iter(op:(Int,Int)=>Int,e:Int):Int=>Int = (n:Int) => {\n",
    "    def iIter(x:Int):Int = x match {\n",
    "        case 0 => e\n",
    "        case x => op(x,iIter(x-1))\n",
    "    }\n",
    "    iIter(n)\n",
    "}"
   ]
  },
  {
   "cell_type": "markdown",
   "metadata": {},
   "source": [
    "Si miras bien la función esta retorna una función que puede ser utilizada para realizar computaciones sobre un conjunto de valores. Vamos a utilizar la función computar la suma aritmética de enteros que la obtenemos a través de esta fórmula\n",
    "\n",
    "```{.scala}\n",
    "val sumaAritmetica = (n:Int) => (n * (n + 1)) / 2\n",
    "```\n",
    "\n",
    "Pero vamos hacerla sumando todos los números desde `n` hasta el `1` utilizando una iteración y en particular nuestra función `iter`.\n",
    "\n",
    "Para ello vamos a indicar que el `op` es la conocida función de suma (`+`), el valor que retornará el caso base será (`e`) es: `0`. Entonces ya tenemos todo para definir `sumaAritmeticaIter`:"
   ]
  },
  {
   "cell_type": "code",
   "execution_count": null,
   "metadata": {},
   "outputs": [],
   "source": [
    "def sumaAritmetica = (n:Int) => (n * (n+1)) / 2\n",
    "val sumaAritmeticaIter = iter(_+_,0)\n",
    "sumaAritmetica(100)\n",
    "sumaAritmeticaIter(100)"
   ]
  },
  {
   "cell_type": "markdown",
   "metadata": {},
   "source": [
    "Ahora, genera la función `factorialIter` a partir de la función `iter`"
   ]
  },
  {
   "cell_type": "code",
   "execution_count": null,
   "metadata": {},
   "outputs": [],
   "source": [
    "val factorialIter = ???\n",
    "factorialIter(3) // 6\n",
    "factorialIter(5) // 120"
   ]
  }
 ],
 "metadata": {
  "kernelspec": {
   "display_name": "Scala",
   "language": "scala",
   "name": "scala"
  },
  "language_info": {
   "codemirror_mode": "text/x-scala",
   "file_extension": ".sc",
   "mimetype": "text/x-scala",
   "name": "scala",
   "nbconvert_exporter": "script",
   "version": "2.13.3"
  }
 },
 "nbformat": 4,
 "nbformat_minor": 4
}
