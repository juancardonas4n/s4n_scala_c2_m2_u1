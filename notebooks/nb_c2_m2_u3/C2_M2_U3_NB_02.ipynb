{
 "cells": [
  {
   "cell_type": "markdown",
   "metadata": {},
   "source": [
    "# Funciones anónimas"
   ]
  },
  {
   "cell_type": "markdown",
   "metadata": {},
   "source": [
    "## Salarios\n",
    "\n",
    "Calcularemos un salario de forma muy simplicada utilizando para ello únicamente su número de horas para los devengados y omitiremos las deducciones. Básicamente, un salario se calcularía de las siguiente forma:\n",
    "\n",
    "```{.scala}\n",
    "def salario(horas:Int,valorHora:Double):Double = horas * valorHora\n",
    "```\n",
    "\n",
    "Esto luciría muy efectivo, por que tanto las `horas` como `valorHora` son parámetro permiten calcular dichos valores y da la posibilidad de calcular salarios diferentes basados en valores hora (`valorHora`) diferentes.\n",
    "\n",
    "Pero podríamos hacerlo mucho más efectivo si la operación de calculo en este caso se pasará también como un parámetro.\n",
    "\n",
    "### Ejercicio 1\n",
    "\n",
    "Defina una función (`salarioComputo`) que reciba una función que reciba en primer lugar la función de cómputo y luego los dos parámetros: (`horas` y `valorHora`). Reescriba el comentario de forma que defina la función esperada."
   ]
  },
  {
   "cell_type": "code",
   "execution_count": null,
   "metadata": {},
   "outputs": [],
   "source": [
    "// def salarioComputo(f,horas,valorHora):Double = ???"
   ]
  },
  {
   "cell_type": "markdown",
   "metadata": {},
   "source": [
    "### Ejercicio 2\n",
    "\n",
    "Utilizando la función `salarioComputo` que compute identicamente a la función anteriormente definida `salario`. Quite el comentario en la celda siguiente y añada la función anónima que confirme la identidad."
   ]
  },
  {
   "cell_type": "code",
   "execution_count": null,
   "metadata": {},
   "outputs": [],
   "source": [
    "def salario(horas:Int,valorHora:Double):Double = horas * valorHora\n",
    "// salario(100,3000) == salarioComputo(<funciónAnónima>,100,3000)"
   ]
  },
  {
   "cell_type": "markdown",
   "metadata": {},
   "source": [
    "## Ejercicio 3\n",
    "\n",
    "Utilizando la función `salarioComputo` defina una función anónima que le de una bonificación del 5% más al salario debengado si cumple con más 220 horas al mes. Elimine el comentario y reemplace la función anónima `<funcionAnonima>` con la función que cumple lo que pide el ejercicio."
   ]
  },
  {
   "cell_type": "code",
   "execution_count": null,
   "metadata": {},
   "outputs": [],
   "source": [
    "// salarioComputo(<funcionAnonima>,225,3000)"
   ]
  },
  {
   "cell_type": "markdown",
   "metadata": {},
   "source": [
    "## Evaluar notas\n",
    "\n",
    "Cuando te encontrabas en la Universidad (o en el colegio), normalmente las notas de una materia eran evaluadas con un simple promedio y esa era la nota definitiva. Amabas a los profesores que te ofrecian alternativas al cálculo de las notas diferentes al simple promedio.\n",
    "\n",
    "El problema, es que muchas de las funciones de cómputo de notas eran estáticas y no podían ser cambiadas hasta que volvieran a compilar el programa que calculara la nota definitiva.\n",
    "\n",
    "Suponga que un estudiante está representado por una tupla de 4 elementos:\n",
    "* Primer elemento, el nombre (`String`).\n",
    "* Los restantes tres las notas de la primera evaluación, segunda y tercera respectivamente (`Double`).\n",
    "\n",
    "La función estática para definir el valor promedio sería la siguiente:"
   ]
  },
  {
   "cell_type": "code",
   "execution_count": null,
   "metadata": {},
   "outputs": [],
   "source": [
    "def nota(est:(String,Double,Double,Double)):Double = {\n",
    "  val notas = est._2 + est._3 + est._4\n",
    "  notas / 3\n",
    "}"
   ]
  },
  {
   "cell_type": "markdown",
   "metadata": {},
   "source": [
    "### Ejercicio 4\n",
    "\n",
    "Defina una función (`computoNota`) que recibe una función en primer lugar, esta establece la computación que hace el `computoNota` y luego la tupla del estudiante con sus correspondientes tres notas. Reescriba el comentario siguiente de forma que defina la función deseada."
   ]
  },
  {
   "cell_type": "code",
   "execution_count": null,
   "metadata": {},
   "outputs": [],
   "source": [
    "// def computoNota(f,est):Double"
   ]
  }
 ],
 "metadata": {
  "kernelspec": {
   "display_name": "Scala",
   "language": "scala",
   "name": "scala"
  },
  "language_info": {
   "codemirror_mode": "text/x-scala",
   "file_extension": ".sc",
   "mimetype": "text/x-scala",
   "name": "scala",
   "nbconvert_exporter": "script",
   "version": "2.13.3"
  }
 },
 "nbformat": 4,
 "nbformat_minor": 4
}
