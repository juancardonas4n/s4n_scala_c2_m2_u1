{
 "cells": [
  {
   "cell_type": "markdown",
   "metadata": {},
   "source": [
    "# Preliminares\n",
    "\n",
    "En este *notebook* requerimos realizar la ejecución de la siguiente celda para poder lograr ejecutar el código que tenemos aquí."
   ]
  },
  {
   "cell_type": "code",
   "execution_count": 1,
   "metadata": {},
   "outputs": [
    {
     "data": {
      "text/plain": [
       "\u001b[36mlog10\u001b[39m: \u001b[32mDouble\u001b[39m => \u001b[32mDouble\u001b[39m = ammonite.$sess.cmd0$Helper$$Lambda$1748/0x0000000800a11040@eda820a\n",
       "\u001b[36mfloor\u001b[39m: \u001b[32mDouble\u001b[39m => \u001b[32mDouble\u001b[39m = ammonite.$sess.cmd0$Helper$$Lambda$1749/0x0000000800a11840@74efe4cd\n",
       "\u001b[36mpow\u001b[39m: (\u001b[32mDouble\u001b[39m, \u001b[32mDouble\u001b[39m) => \u001b[32mDouble\u001b[39m = ammonite.$sess.cmd0$Helper$$Lambda$1750/0x0000000800a12840@2fd7bd4e\n",
       "\u001b[36msqrt\u001b[39m: \u001b[32mDouble\u001b[39m => \u001b[32mDouble\u001b[39m = ammonite.$sess.cmd0$Helper$$Lambda$1751/0x0000000800a13840@579dcdd0"
      ]
     },
     "execution_count": 1,
     "metadata": {},
     "output_type": "execute_result"
    }
   ],
   "source": [
    "val log10 = (x:Double) => scala.math.log10(x)\n",
    "val floor = (x:Double) => scala.math.floor(x)\n",
    "val pow   = (x:Double,y:Double) => scala.math.pow(x,y)\n",
    "val sqrt  = (x:Double) => scala.math.sqrt(x)"
   ]
  },
  {
   "cell_type": "markdown",
   "metadata": {},
   "source": [
    "# Funciones como valores"
   ]
  },
  {
   "cell_type": "markdown",
   "metadata": {},
   "source": [
    "## Ejercicio 1\n",
    "\n",
    "Puedes contar el número de digitos que un número entero positivo tiene, de dos formas:\n",
    "\n",
    "* De forma manual, contando cada dígito.\n",
    "* Aplicando propiedades matemáticas como los logaritmos.\n",
    "\n",
    "En este caso, vamos a utilizar la siguiente propiedad representada por la siguiente fórmula:\n",
    "\n",
    "![Número dígitos](./imagenes/nDigitos.png)\n",
    "\n",
    "En ella se utiliza la funciones de `log10()` y `floor()` para obtener los números digitos que tiene un valor entero positivo diferente del 0.\n",
    "\n",
    "Implemente una función como valor que se indica en la variable `nDigitos`."
   ]
  },
  {
   "cell_type": "code",
   "execution_count": null,
   "metadata": {
    "solution2": "hidden",
    "solution2_first": true
   },
   "outputs": [],
   "source": [
    "val nDigitos = ???"
   ]
  },
  {
   "cell_type": "code",
   "execution_count": null,
   "metadata": {
    "solution2": "hidden"
   },
   "outputs": [],
   "source": [
    "val nDigitos = (n:Int) => floor(log10(n)) + 1"
   ]
  },
  {
   "cell_type": "markdown",
   "metadata": {},
   "source": [
    "## Ejercicio 2\n",
    "\n",
    "El número [cero](https://es.wikipedia.org/wiki/Cero) es un número entero, que representa un valor nulo, por que al ser utilizado en ciertas operaciones puede resultar en valores indeterminados o inconsistentes. Si aplica la función anterior con el valor cero pasará lo siguiente:\n",
    "\n",
    "```{.scala}\n",
    "scala> nDigitos(0)\n",
    "val res1:Double = -Infinity\n",
    "\n",
    "```\n",
    "\n",
    "Esto tiene sentido desde el punto de vista matemático, pero desde el punto de vista del texto no, por que obviamente si se cuenta los dígitos, el cero es un dígito y el resultado debería ser el número de dígitos igual `1`.\n",
    "\n",
    "Define una nueva función como valor llamada `nDigitos0` que utiliza la definida anterior y cuando le pasan un `0` retorna 1."
   ]
  },
  {
   "cell_type": "code",
   "execution_count": null,
   "metadata": {
    "solution2": "hidden",
    "solution2_first": true
   },
   "outputs": [],
   "source": [
    "val nDigitos0 = ???"
   ]
  },
  {
   "cell_type": "code",
   "execution_count": null,
   "metadata": {
    "solution2": "hidden"
   },
   "outputs": [],
   "source": [
    "val nDigitos0 = (n:Int) => if (n == 0) 1 else nDigitos(n)"
   ]
  },
  {
   "cell_type": "markdown",
   "metadata": {},
   "source": [
    "## Ejercicio 3\n",
    "\n",
    "La siguiente es la fórmula del interés compuesto. \n",
    "\n",
    "![Interés compuesto](./imagenes/interesCompuesto.png)\n",
    "\n",
    "Esta función recibe los parámetros en este orden: \n",
    "* Capital inicial(`Double`): ![C_0](./imagenes/C0.png)\n",
    "* Interés(`Double`): ![i](./imagenes/i.png)\n",
    "* Número de períodos(`Int`): ![n](./imagenes/n.png)\n",
    "\n",
    "Implemente la función por valor (función literal) representada por la variable `capitalN`."
   ]
  },
  {
   "cell_type": "code",
   "execution_count": null,
   "metadata": {
    "solution2": "hidden",
    "solution2_first": true
   },
   "outputs": [],
   "source": [
    "val capitalN = ???"
   ]
  },
  {
   "cell_type": "code",
   "execution_count": null,
   "metadata": {
    "solution2": "hidden"
   },
   "outputs": [],
   "source": [
    "val capitalN = (c0:Double, i:Double, n:Int) => c0 * pow(1 + i, n)"
   ]
  },
  {
   "cell_type": "markdown",
   "metadata": {},
   "source": [
    "## Ejercicio 4\n",
    "\n",
    "La siguiente es la fórmula de la conocida solución a la ecuación cuádratica:\n",
    "\n",
    "![Ecuación cuádratica](./imagenes/ecuacionCuadratica.png)\n",
    "\n",
    "Implementa la siguiente variable que contiene una función como valor de dicha ecuación, recuerde que la ecuación recibe los valores: `a`, `b` y `c`. Y la ecuación devuelve una tupla de dos valores. Implemente la función por valor representada por la variable `cuadratica`."
   ]
  },
  {
   "cell_type": "code",
   "execution_count": null,
   "metadata": {
    "solution2": "hidden",
    "solution2_first": true
   },
   "outputs": [],
   "source": [
    "val cuadratica = ???"
   ]
  },
  {
   "cell_type": "code",
   "execution_count": null,
   "metadata": {
    "solution2": "hidden"
   },
   "outputs": [],
   "source": [
    "val cuadratica = (a:Double, b:Double, c:Double) => {\n",
    "    val mb = -b\n",
    "    val b2 = pow(b,2)\n",
    "    val tSqrt = sqrt(b2 - 4 * a * c)\n",
    "    val dem = 2 * a\n",
    "    ((mb + tSqrt)/dem, (mb - tSqrt)/dem)\n",
    "}"
   ]
  },
  {
   "cell_type": "code",
   "execution_count": null,
   "metadata": {},
   "outputs": [],
   "source": [
    "cuadratica(1,5,6)\n",
    "cuadratica(1,6,5)"
   ]
  }
 ],
 "metadata": {
  "kernelspec": {
   "display_name": "Scala",
   "language": "scala",
   "name": "scala"
  },
  "language_info": {
   "codemirror_mode": "text/x-scala",
   "file_extension": ".sc",
   "mimetype": "text/x-scala",
   "name": "scala",
   "nbconvert_exporter": "script",
   "version": "2.13.3"
  }
 },
 "nbformat": 4,
 "nbformat_minor": 4
}
