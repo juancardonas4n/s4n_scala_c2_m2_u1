{
 "cells": [
  {
   "cell_type": "markdown",
   "metadata": {},
   "source": [
    "# Funciones anónimas"
   ]
  },
  {
   "cell_type": "markdown",
   "metadata": {},
   "source": [
    "## Salarios\n",
    "\n",
    "La forma más simple para cómputar el salario lo puedes basar en dos valores: el número de horas (`horas`) y el valor de cada hora (`valorHora`). De esta forma un salario se calcularía:\n",
    "\n",
    "```{.scala}\n",
    "def salario(horas:Int,valorHora:Double):Double = horas * valorHora\n",
    "```\n",
    "\n",
    "Si utilizas los mismos parámetros: `horas` y `valorHora` puedes implementar una gran cantidad de funciones que computan el salario de forma diferentes. Pero, en vez de tener una función con un cuerpo fijo, puedes utilizar el concepto de funciones anónimas que te permitirán cómputar de forma dinámica el salario. Tu objetivo en este *notebook* es usar y definir funciones anónimas.\n",
    "\n",
    "### Ejercicio 1\n",
    "\n",
    "Defina una función (`salarioComputo`) que reciba tres parámetros: \n",
    "* una función por valor que computa el salario utilizando dos parámetros (`horas`y `valorHora`)\n",
    "* el número de horas trabajadas (`horas`)\n",
    "* el valor por cada hora (`valorHora`).\n",
    "Sustituye `???` por el cuerpo de función correspondiente."
   ]
  },
  {
   "cell_type": "code",
   "execution_count": null,
   "metadata": {
    "solution2": "hidden",
    "solution2_first": true
   },
   "outputs": [],
   "source": [
    "def salarioComputo(f:(Double,Double)=>Double,horas:Double,valorHora:Double):Double = ???"
   ]
  },
  {
   "cell_type": "code",
   "execution_count": null,
   "metadata": {
    "solution2": "hidden"
   },
   "outputs": [],
   "source": [
    "def salarioComputo(f:(Double,Double)=>Double,horas:Double,valorHora:Double):Double = f(horas,valorHora)"
   ]
  },
  {
   "cell_type": "markdown",
   "metadata": {},
   "source": [
    "### Ejercicio 2\n",
    "\n",
    "Utiliza la función `salarioComputo` de tal forma que si le pasás una función anónima (cómo su primer parámetro) esta debe computar el mismo valor que la función `salario` con los mismos valores de horas y valor hora.\n",
    "\n",
    "Reemplaza el comentario (`<funciónAnónima>`) en la celda siguiente y añade la función anónima que confirme la identidad que se propone."
   ]
  },
  {
   "cell_type": "code",
   "execution_count": null,
   "metadata": {
    "solution2": "hidden",
    "solution2_first": true
   },
   "outputs": [],
   "source": [
    "def salario(horas:Int,valorHora:Double):Double = horas * valorHora\n",
    "salario(100,3000) == salarioComputo(<funciónAnónima>,100,3000)"
   ]
  },
  {
   "cell_type": "code",
   "execution_count": null,
   "metadata": {
    "solution2": "hidden"
   },
   "outputs": [],
   "source": [
    "def salario(horas:Int,valorHora:Double):Double = horas * valorHora\n",
    "salario(100,3000) == salarioComputo((horas,valorHora)=>horas*valorHora,100,3000)"
   ]
  },
  {
   "cell_type": "markdown",
   "metadata": {},
   "source": [
    "## Ejercicio 3\n",
    "\n",
    "Nuevamente utilizarás la función `salarioComputo` para definir una nueva función anónima. Esta función debe darle una bonificiación del 5% más al salario devengado si cumple con más 220 horas al mes, en caso contrario solamente cómputa el salario como lo has venido haciendo. Elimina el comentario (`funcionAnonima`) por la función anónima solicitada en el ejercicio."
   ]
  },
  {
   "cell_type": "code",
   "execution_count": null,
   "metadata": {
    "solution2": "hidden",
    "solution2_first": true
   },
   "outputs": [],
   "source": [
    "salarioComputo(<funcionAnonima>,225,3000)"
   ]
  },
  {
   "cell_type": "code",
   "execution_count": null,
   "metadata": {
    "solution2": "hidden"
   },
   "outputs": [],
   "source": [
    "salarioComputo((h,v) => { val sal = h * v\n",
    "                          val factor = if (h > 220) 1.05 else 1.0 \n",
    "                          sal * factor}, 225,3000)"
   ]
  },
  {
   "cell_type": "markdown",
   "metadata": {},
   "source": [
    "## Evaluar notas\n",
    "\n",
    "Cuando te encontrabas en la Universidad (o en el colegio), normalmente las notas de una materia eran evaluadas con un simple promedio y esa era la nota definitiva. Amabas a los profesores que te ofrecian alternativas al cálculo de las notas diferentes al simple promedio.\n",
    "\n",
    "El problema, es que muchas de las funciones de cómputo de notas eran estáticas y no podían ser cambiadas hasta que volvieran a compilar el programa que calculara la nota definitiva.\n",
    "\n",
    "Suponga que un estudiante está representado por una tupla de 4 elementos:\n",
    "* Primer elemento, el nombre (`String`).\n",
    "* Los restantes tres las notas de la primera evaluación, segunda y tercera respectivamente (`Double`).\n",
    "\n",
    "La función estática para definir el valor promedio sería la siguiente:"
   ]
  },
  {
   "cell_type": "code",
   "execution_count": null,
   "metadata": {},
   "outputs": [],
   "source": [
    "def nota(est:(String,Double,Double,Double)):Double = {\n",
    "  val notas = est._2 + est._3 + est._4\n",
    "  notas / 3.0\n",
    "}"
   ]
  },
  {
   "cell_type": "markdown",
   "metadata": {},
   "source": [
    "### Ejercicio 4\n",
    "\n",
    "Define una función (`computoNota`) que recibe como primer parámetro una función anónima que computa la nota del estudiante. Escribe el cuerpo de la función (`???`) de forma que computa la nota de forma esperada."
   ]
  },
  {
   "cell_type": "code",
   "execution_count": null,
   "metadata": {
    "solution2": "hidden",
    "solution2_first": true
   },
   "outputs": [],
   "source": [
    "def computoNota(f:((String,Double,Double,Double))=>Double, est:(String,Double,Double,Double)):Double = ???"
   ]
  },
  {
   "cell_type": "code",
   "execution_count": null,
   "metadata": {
    "solution2": "hidden"
   },
   "outputs": [],
   "source": [
    "def computoNota(f:((String,Double,Double,Double))=>Double, est:(String,Double,Double,Double)):Double = f(est)"
   ]
  },
  {
   "cell_type": "markdown",
   "metadata": {},
   "source": [
    "### Ejercicio 5\n",
    "\n",
    "Utiliza la función `computoNota` e implementa el comportamiento de la función `nota` (que se definió al principio de la sección), pasando una función anónima que realice el mismo cómputo. Reemplaza `<funcionAnonima>` con la correspondiente función que realiza la operación esperada."
   ]
  },
  {
   "cell_type": "code",
   "execution_count": null,
   "metadata": {
    "solution2": "hidden",
    "solution2_first": true
   },
   "outputs": [],
   "source": [
    "computoNota(<funcionAnonima>,(\"Juan\", 3.5, 2.5, 2.9))"
   ]
  },
  {
   "cell_type": "code",
   "execution_count": null,
   "metadata": {
    "solution2": "hidden"
   },
   "outputs": [],
   "source": [
    "computoNota((est:(String,Double,Double,Double)) => (est._2 + est._3 + est._4)/3.0,(\"Juan\", 3.5, 2.5, 2.9))"
   ]
  },
  {
   "cell_type": "markdown",
   "metadata": {},
   "source": [
    "### Ejercicio 6\n",
    "\n",
    "Utilizarás nuevamente la función `computoNota` implementa un nuevo comportamiento, pero en vez de calcular el promedio, cada nota se calcula de forma porcentual, donde los porcentajes son los siguientes correspondientes en el orden de cada una de las notas: `0.5`, `0.25`, `0.25`. Reemplaza `<funcionAnonima>` con la correspondiente función que realiza la operación esperada."
   ]
  },
  {
   "cell_type": "code",
   "execution_count": null,
   "metadata": {
    "solution2": "hidden",
    "solution2_first": true
   },
   "outputs": [],
   "source": [
    "computoNota(<funcionAnonima>, (\"Juan\", 3.5, 2.5, 2.9))"
   ]
  },
  {
   "cell_type": "code",
   "execution_count": null,
   "metadata": {
    "solution2": "hidden"
   },
   "outputs": [],
   "source": [
    "computoNota((est:(String,Double,Double,Double)) => est._2 * 0.5 + est._3 * 0.25 + est._4 * 0.25,(\"Juan\", 3.5, 2.5, 2.9))"
   ]
  }
 ],
 "metadata": {
  "kernelspec": {
   "display_name": "Scala",
   "language": "scala",
   "name": "scala"
  },
  "language_info": {
   "codemirror_mode": "text/x-scala",
   "file_extension": ".sc",
   "mimetype": "text/x-scala",
   "name": "scala",
   "nbconvert_exporter": "script",
   "version": "2.13.3"
  }
 },
 "nbformat": 4,
 "nbformat_minor": 4
}
