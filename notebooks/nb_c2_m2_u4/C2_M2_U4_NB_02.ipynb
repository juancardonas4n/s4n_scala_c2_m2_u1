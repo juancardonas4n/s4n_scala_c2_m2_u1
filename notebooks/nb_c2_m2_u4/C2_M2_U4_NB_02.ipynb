{
 "cells": [
  {
   "cell_type": "markdown",
   "metadata": {},
   "source": [
    "# Funciones anónimas"
   ]
  },
  {
   "cell_type": "markdown",
   "metadata": {},
   "source": [
    "## Salarios\n",
    "\n",
    "Calcularemos un salario de forma muy simplicada utilizando para ello únicamente su número de horas para los devengados y omitiremos las deducciones. Básicamente, un salario se calcularía de las siguiente forma:\n",
    "\n",
    "```{.scala}\n",
    "def salario(horas:Int,valorHora:Double):Double = horas * valorHora\n",
    "```\n",
    "\n",
    "Esto luciría muy efectivo, por que tanto las `horas` como `valorHora` son parámetro permiten calcular dichos valores y da la posibilidad de calcular salarios diferentes basados en valores hora (`valorHora`) diferentes.\n",
    "\n",
    "Pero podríamos hacerlo mucho más efectivo si la operación de calculo en este caso se pasará también como un parámetro.\n",
    "\n",
    "### Ejercicio 1\n",
    "\n",
    "Defina una función (`salarioComputo`) que reciba una función que reciba en primer lugar la función de cómputo y luego los dos parámetros: (`horas` y `valorHora`). Reescriba el comentario de forma que defina la función esperada."
   ]
  },
  {
   "cell_type": "code",
   "execution_count": null,
   "metadata": {
    "solution2": "hidden",
    "solution2_first": true
   },
   "outputs": [],
   "source": [
    "def salarioComputo(f,horas:Double,valorHora:Double):Double = ???"
   ]
  },
  {
   "cell_type": "code",
   "execution_count": null,
   "metadata": {
    "solution2": "hidden"
   },
   "outputs": [],
   "source": [
    "def salarioComputo(f:(Double,Double)=>Double,horas:Double,valorHora:Double):Double = f(horas,valorHora)"
   ]
  },
  {
   "cell_type": "markdown",
   "metadata": {},
   "source": [
    "### Ejercicio 2\n",
    "\n",
    "Utilizando la función `salarioComputo` que compute identicamente a la función anteriormente definida `salario`. Quite el comentario en la celda siguiente y añada la función anónima que confirme la identidad."
   ]
  },
  {
   "cell_type": "code",
   "execution_count": null,
   "metadata": {
    "solution2": "hidden",
    "solution2_first": true
   },
   "outputs": [],
   "source": [
    "def salario(horas:Int,valorHora:Double):Double = horas * valorHora\n",
    "salario(100,3000) == salarioComputo(<funciónAnónima>,100,3000)"
   ]
  },
  {
   "cell_type": "code",
   "execution_count": null,
   "metadata": {
    "solution2": "hidden"
   },
   "outputs": [],
   "source": [
    "def salario(horas:Int,valorHora:Double):Double = horas * valorHora\n",
    "salario(100,3000) == salarioComputo((horas,valorHora)=>horas*valorHora,100,3000)"
   ]
  },
  {
   "cell_type": "markdown",
   "metadata": {},
   "source": [
    "## Ejercicio 3\n",
    "\n",
    "Utilizando la función `salarioComputo` defina una función anónima que le de una bonificación del 5% más al salario devengado si cumple con más 220 horas al mes. Elimine el comentario y reemplace la función anónima `<funcionAnonima>` con la función que cumple lo que pide el ejercicio."
   ]
  },
  {
   "cell_type": "code",
   "execution_count": null,
   "metadata": {
    "solution2": "hidden",
    "solution2_first": true
   },
   "outputs": [],
   "source": [
    "salarioComputo(<funcionAnonima>,225,3000)"
   ]
  },
  {
   "cell_type": "code",
   "execution_count": null,
   "metadata": {
    "solution2": "hidden"
   },
   "outputs": [],
   "source": [
    "salarioComputo((h,v) => { val sal = h * v\n",
    "                          val factor = if (h > 220) 1.05 else 1.0 \n",
    "                          sal * factor}, 225,3000)"
   ]
  },
  {
   "cell_type": "markdown",
   "metadata": {},
   "source": [
    "## Evaluar notas\n",
    "\n",
    "Cuando te encontrabas en la Universidad (o en el colegio), normalmente las notas de una materia eran evaluadas con un simple promedio y esa era la nota definitiva. Amabas a los profesores que te ofrecian alternativas al cálculo de las notas diferentes al simple promedio.\n",
    "\n",
    "El problema, es que muchas de las funciones de cómputo de notas eran estáticas y no podían ser cambiadas hasta que volvieran a compilar el programa que calculara la nota definitiva.\n",
    "\n",
    "Suponga que un estudiante está representado por una tupla de 4 elementos:\n",
    "* Primer elemento, el nombre (`String`).\n",
    "* Los restantes tres las notas de la primera evaluación, segunda y tercera respectivamente (`Double`).\n",
    "\n",
    "La función estática para definir el valor promedio sería la siguiente:"
   ]
  },
  {
   "cell_type": "code",
   "execution_count": null,
   "metadata": {},
   "outputs": [],
   "source": [
    "def nota(est:(String,Double,Double,Double)):Double = {\n",
    "  val notas = est._2 + est._3 + est._4\n",
    "  notas / 3.0\n",
    "}"
   ]
  },
  {
   "cell_type": "markdown",
   "metadata": {},
   "source": [
    "### Ejercicio 4\n",
    "\n",
    "Defina una función (`computoNota`) que recibe una función en primer lugar. Esta función establece la computación que hace el `computoNota` y luego la tupla del estudiante con sus correspondientes tres notas. Reescriba el comentario siguiente de forma que defina la función deseada."
   ]
  },
  {
   "cell_type": "code",
   "execution_count": null,
   "metadata": {
    "solution2": "hidden",
    "solution2_first": true
   },
   "outputs": [],
   "source": [
    "def computoNota(f:((String,Double,Double,Double))=>Double, est:(String,Double,Double,Double)):Double = ???"
   ]
  },
  {
   "cell_type": "code",
   "execution_count": null,
   "metadata": {
    "solution2": "hidden"
   },
   "outputs": [],
   "source": [
    "def computoNota(f:((String,Double,Double,Double))=>Double, est:(String,Double,Double,Double)):Double = f(est)"
   ]
  },
  {
   "cell_type": "markdown",
   "metadata": {},
   "source": [
    "### Ejercicio 5\n",
    "\n",
    "Utilizando la función `computoNota` implemente el comportamiento de la función nota, pasando una función anónima que realice el mismo computo de la nota final. Reemplace `<funcionAnonima>` con la correspondiente función que realiza la operación esperada."
   ]
  },
  {
   "cell_type": "code",
   "execution_count": null,
   "metadata": {
    "solution2": "hidden",
    "solution2_first": true
   },
   "outputs": [],
   "source": [
    "computoNota(<funcionAnonima>,(\"Juan\", 3.5, 2.5, 2.9))"
   ]
  },
  {
   "cell_type": "code",
   "execution_count": null,
   "metadata": {
    "solution2": "hidden"
   },
   "outputs": [],
   "source": [
    "computoNota((est:(String,Double,Double,Double)) => (est._2 + est._3 + est._4)/3.0,(\"Juan\", 3.5, 2.5, 2.9))"
   ]
  },
  {
   "cell_type": "markdown",
   "metadata": {},
   "source": [
    "### Ejercicio 6\n",
    "\n",
    "Utilizando nuevamente la función `computoNota` implemente un nuevo comportamiento, pero en vez de calcular el promedio, cada nota se calcula de forma porcentual, donde los porcentajes son los siguientes correspondientes en el orden de cada una de las notas: `0.5`, `0.25`, `0.25`. Reemplace `<funcionAnonima>` con la correspondiente función que realiza la operación esperada."
   ]
  },
  {
   "cell_type": "code",
   "execution_count": null,
   "metadata": {
    "solution2": "hidden",
    "solution2_first": true
   },
   "outputs": [],
   "source": [
    "computoNota(<funcionAnonima>, (\"Juan\", 3.5, 2.5, 2.9))"
   ]
  },
  {
   "cell_type": "code",
   "execution_count": null,
   "metadata": {
    "solution2": "hidden"
   },
   "outputs": [],
   "source": [
    "computoNota((est:(String,Double,Double,Double)) => est._2 * 0.5 + est._3 * 0.25 + est._4 * 0.25,(\"Juan\", 3.5, 2.5, 2.9))"
   ]
  }
 ],
 "metadata": {
  "kernelspec": {
   "display_name": "Scala",
   "language": "scala",
   "name": "scala"
  },
  "language_info": {
   "codemirror_mode": "text/x-scala",
   "file_extension": ".sc",
   "mimetype": "text/x-scala",
   "name": "scala",
   "nbconvert_exporter": "script",
   "version": "2.13.3"
  }
 },
 "nbformat": 4,
 "nbformat_minor": 4
}
